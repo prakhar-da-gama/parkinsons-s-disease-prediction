{
  "nbformat": 4,
  "nbformat_minor": 0,
  "metadata": {
    "colab": {
      "name": "parkinson's pridictions.ipynb",
      "provenance": []
    },
    "kernelspec": {
      "name": "python3",
      "display_name": "Python 3"
    },
    "language_info": {
      "name": "python"
    }
  },
  "cells": [
    {
      "cell_type": "markdown",
      "source": [
        "Introduction:\n",
        "Through this project we determine whether a person has Parkinson’s Disease or not?\n",
        "The python code takes data of a person in the form of parkinsons.data and used XGBClassifiers from xgboost library to predict the disease.\n",
        "\n",
        "Tools Used:\n",
        "The following python project uses Numpy,pandas,sklearn.preprocessing,xgboost and sklearn."
      ],
      "metadata": {
        "id": "_jmoErtdOHiV"
      }
    },
    {
      "cell_type": "code",
      "source": [
        "from google.colab import drive\n",
        "drive.mount('/content/gdrive')"
      ],
      "metadata": {
        "id": "XzY5ocaHPiE9",
        "colab": {
          "base_uri": "https://localhost:8080/"
        },
        "outputId": "c1bdc913-6b6d-44ed-fd8a-d65804ad10d4"
      },
      "execution_count": 2,
      "outputs": [
        {
          "output_type": "stream",
          "name": "stdout",
          "text": [
            "Mounted at /content/gdrive\n"
          ]
        }
      ]
    },
    {
      "cell_type": "code",
      "execution_count": 6,
      "metadata": {
        "colab": {
          "base_uri": "https://localhost:8080/"
        },
        "id": "kkMA0iNSPbt5",
        "outputId": "4002ba67-5af9-4fca-eb48-837c34a10016"
      },
      "outputs": [
        {
          "output_type": "stream",
          "name": "stdout",
          "text": [
            "94.87179487179486\n"
          ]
        }
      ],
      "source": [
        "import numpy as np\n",
        "import pandas as pd\n",
        "import os, sys\n",
        "from sklearn.preprocessing import MinMaxScaler\n",
        "from xgboost import XGBClassifier\n",
        "from sklearn.model_selection import train_test_split\n",
        "from sklearn.metrics import accuracy_score\n",
        "\n",
        "#DataFlair - Read the data\n",
        "df=pd.read_csv('/content/drive/MyDrive/parkinsons.data')\n",
        "df.head()\n",
        "\n",
        "#DataFlair - Get the features and labels\n",
        "features=df.loc[:,df.columns!='status'].values[:,1:]\n",
        "labels=df.loc[:,'status'].values\n",
        "\n",
        "#DataFlair - Get the count of each label (0 and 1) in labels\n",
        "#print(labels[labels==1].shape[0], labels[labels==0].shape[0])\n",
        "\n",
        "#DataFlair - Scale the features to between -1 and 1\n",
        "scaler=MinMaxScaler((-1,1))\n",
        "x=scaler.fit_transform(features)\n",
        "y=labels\n",
        "\n",
        "#DataFlair - Split the dataset\n",
        "x_train,x_test,y_train,y_test=train_test_split(x, y, test_size=0.2, random_state=7)\n",
        "\n",
        "#DataFlair - Train the model\n",
        "model=XGBClassifier()\n",
        "model.fit(x_train,y_train)\n",
        "\n",
        "# DataFlair - Calculate the accuracy\n",
        "y_pred=model.predict(x_test)\n",
        "print(accuracy_score(y_test, y_pred)*100)\n",
        "\n"
      ]
    }
  ]
}